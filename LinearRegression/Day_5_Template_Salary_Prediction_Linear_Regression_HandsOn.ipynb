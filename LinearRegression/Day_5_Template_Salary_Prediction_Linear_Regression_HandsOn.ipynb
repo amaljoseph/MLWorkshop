{
  "nbformat": 4,
  "nbformat_minor": 0,
  "metadata": {
    "colab": {
      "provenance": []
    },
    "kernelspec": {
      "name": "python3",
      "display_name": "Python 3"
    },
    "language_info": {
      "name": "python"
    }
  },
  "cells": [
    {
      "cell_type": "markdown",
      "source": [
        "**Import the libraries**"
      ],
      "metadata": {
        "id": "pS-fgBN6uy4W"
      }
    },
    {
      "cell_type": "code",
      "source": [
        "# import numpy, pandas and matplotlib\n",
        "import numpy as np\n",
        "import pandas as pd\n",
        "import matplotlib.pyplot as plt"
      ],
      "metadata": {
        "id": "W_EA3xsOlXmS"
      },
      "execution_count": 36,
      "outputs": []
    },
    {
      "cell_type": "markdown",
      "source": [
        "**Load the dataset**"
      ],
      "metadata": {
        "id": "wfa_rOyhmOm3"
      }
    },
    {
      "cell_type": "code",
      "source": [
        "# load the Salary_Data.csv file\n",
        "df = pd.read_csv('Salary_Data.csv')"
      ],
      "metadata": {
        "id": "uldQZFsWmNgy"
      },
      "execution_count": 37,
      "outputs": []
    },
    {
      "cell_type": "markdown",
      "source": [
        "Use **df.head(n)** to display the first n rows of the dataframe.  "
      ],
      "metadata": {
        "id": "g7vWqSId3C6x"
      }
    },
    {
      "cell_type": "code",
      "source": [
        "df.head(2)"
      ],
      "metadata": {
        "colab": {
          "base_uri": "https://localhost:8080/",
          "height": 112
        },
        "id": "QeYgXA4GAoU4",
        "outputId": "253456f2-5da9-469e-fe5d-f64005b15240"
      },
      "execution_count": 38,
      "outputs": [
        {
          "output_type": "execute_result",
          "data": {
            "text/plain": [
              "   YearsExperience   Salary\n",
              "0              1.1  39343.0\n",
              "1              1.3  46205.0"
            ],
            "text/html": [
              "\n",
              "  <div id=\"df-e819a6e7-a96f-4a77-a951-30c1ef2542f3\">\n",
              "    <div class=\"colab-df-container\">\n",
              "      <div>\n",
              "<style scoped>\n",
              "    .dataframe tbody tr th:only-of-type {\n",
              "        vertical-align: middle;\n",
              "    }\n",
              "\n",
              "    .dataframe tbody tr th {\n",
              "        vertical-align: top;\n",
              "    }\n",
              "\n",
              "    .dataframe thead th {\n",
              "        text-align: right;\n",
              "    }\n",
              "</style>\n",
              "<table border=\"1\" class=\"dataframe\">\n",
              "  <thead>\n",
              "    <tr style=\"text-align: right;\">\n",
              "      <th></th>\n",
              "      <th>YearsExperience</th>\n",
              "      <th>Salary</th>\n",
              "    </tr>\n",
              "  </thead>\n",
              "  <tbody>\n",
              "    <tr>\n",
              "      <th>0</th>\n",
              "      <td>1.1</td>\n",
              "      <td>39343.0</td>\n",
              "    </tr>\n",
              "    <tr>\n",
              "      <th>1</th>\n",
              "      <td>1.3</td>\n",
              "      <td>46205.0</td>\n",
              "    </tr>\n",
              "  </tbody>\n",
              "</table>\n",
              "</div>\n",
              "      <button class=\"colab-df-convert\" onclick=\"convertToInteractive('df-e819a6e7-a96f-4a77-a951-30c1ef2542f3')\"\n",
              "              title=\"Convert this dataframe to an interactive table.\"\n",
              "              style=\"display:none;\">\n",
              "        \n",
              "  <svg xmlns=\"http://www.w3.org/2000/svg\" height=\"24px\"viewBox=\"0 0 24 24\"\n",
              "       width=\"24px\">\n",
              "    <path d=\"M0 0h24v24H0V0z\" fill=\"none\"/>\n",
              "    <path d=\"M18.56 5.44l.94 2.06.94-2.06 2.06-.94-2.06-.94-.94-2.06-.94 2.06-2.06.94zm-11 1L8.5 8.5l.94-2.06 2.06-.94-2.06-.94L8.5 2.5l-.94 2.06-2.06.94zm10 10l.94 2.06.94-2.06 2.06-.94-2.06-.94-.94-2.06-.94 2.06-2.06.94z\"/><path d=\"M17.41 7.96l-1.37-1.37c-.4-.4-.92-.59-1.43-.59-.52 0-1.04.2-1.43.59L10.3 9.45l-7.72 7.72c-.78.78-.78 2.05 0 2.83L4 21.41c.39.39.9.59 1.41.59.51 0 1.02-.2 1.41-.59l7.78-7.78 2.81-2.81c.8-.78.8-2.07 0-2.86zM5.41 20L4 18.59l7.72-7.72 1.47 1.35L5.41 20z\"/>\n",
              "  </svg>\n",
              "      </button>\n",
              "      \n",
              "  <style>\n",
              "    .colab-df-container {\n",
              "      display:flex;\n",
              "      flex-wrap:wrap;\n",
              "      gap: 12px;\n",
              "    }\n",
              "\n",
              "    .colab-df-convert {\n",
              "      background-color: #E8F0FE;\n",
              "      border: none;\n",
              "      border-radius: 50%;\n",
              "      cursor: pointer;\n",
              "      display: none;\n",
              "      fill: #1967D2;\n",
              "      height: 32px;\n",
              "      padding: 0 0 0 0;\n",
              "      width: 32px;\n",
              "    }\n",
              "\n",
              "    .colab-df-convert:hover {\n",
              "      background-color: #E2EBFA;\n",
              "      box-shadow: 0px 1px 2px rgba(60, 64, 67, 0.3), 0px 1px 3px 1px rgba(60, 64, 67, 0.15);\n",
              "      fill: #174EA6;\n",
              "    }\n",
              "\n",
              "    [theme=dark] .colab-df-convert {\n",
              "      background-color: #3B4455;\n",
              "      fill: #D2E3FC;\n",
              "    }\n",
              "\n",
              "    [theme=dark] .colab-df-convert:hover {\n",
              "      background-color: #434B5C;\n",
              "      box-shadow: 0px 1px 3px 1px rgba(0, 0, 0, 0.15);\n",
              "      filter: drop-shadow(0px 1px 2px rgba(0, 0, 0, 0.3));\n",
              "      fill: #FFFFFF;\n",
              "    }\n",
              "  </style>\n",
              "\n",
              "      <script>\n",
              "        const buttonEl =\n",
              "          document.querySelector('#df-e819a6e7-a96f-4a77-a951-30c1ef2542f3 button.colab-df-convert');\n",
              "        buttonEl.style.display =\n",
              "          google.colab.kernel.accessAllowed ? 'block' : 'none';\n",
              "\n",
              "        async function convertToInteractive(key) {\n",
              "          const element = document.querySelector('#df-e819a6e7-a96f-4a77-a951-30c1ef2542f3');\n",
              "          const dataTable =\n",
              "            await google.colab.kernel.invokeFunction('convertToInteractive',\n",
              "                                                     [key], {});\n",
              "          if (!dataTable) return;\n",
              "\n",
              "          const docLinkHtml = 'Like what you see? Visit the ' +\n",
              "            '<a target=\"_blank\" href=https://colab.research.google.com/notebooks/data_table.ipynb>data table notebook</a>'\n",
              "            + ' to learn more about interactive tables.';\n",
              "          element.innerHTML = '';\n",
              "          dataTable['output_type'] = 'display_data';\n",
              "          await google.colab.output.renderOutput(dataTable, element);\n",
              "          const docLink = document.createElement('div');\n",
              "          docLink.innerHTML = docLinkHtml;\n",
              "          element.appendChild(docLink);\n",
              "        }\n",
              "      </script>\n",
              "    </div>\n",
              "  </div>\n",
              "  "
            ]
          },
          "metadata": {},
          "execution_count": 38
        }
      ]
    },
    {
      "cell_type": "markdown",
      "source": [
        "Use **df.tail(n)** to display the last n rows of the dataframe.  "
      ],
      "metadata": {
        "id": "PwapsiYF3Jmh"
      }
    },
    {
      "cell_type": "code",
      "source": [
        "df.tail(2)"
      ],
      "metadata": {
        "colab": {
          "base_uri": "https://localhost:8080/",
          "height": 112
        },
        "id": "AG8sqLyuEALU",
        "outputId": "06f833d5-5c08-4f06-ace4-f8567ff8efb0"
      },
      "execution_count": 39,
      "outputs": [
        {
          "output_type": "execute_result",
          "data": {
            "text/plain": [
              "    YearsExperience    Salary\n",
              "28             10.3  122391.0\n",
              "29             10.5  121872.0"
            ],
            "text/html": [
              "\n",
              "  <div id=\"df-46248d6e-1cc8-4424-bde1-19976ea838e5\">\n",
              "    <div class=\"colab-df-container\">\n",
              "      <div>\n",
              "<style scoped>\n",
              "    .dataframe tbody tr th:only-of-type {\n",
              "        vertical-align: middle;\n",
              "    }\n",
              "\n",
              "    .dataframe tbody tr th {\n",
              "        vertical-align: top;\n",
              "    }\n",
              "\n",
              "    .dataframe thead th {\n",
              "        text-align: right;\n",
              "    }\n",
              "</style>\n",
              "<table border=\"1\" class=\"dataframe\">\n",
              "  <thead>\n",
              "    <tr style=\"text-align: right;\">\n",
              "      <th></th>\n",
              "      <th>YearsExperience</th>\n",
              "      <th>Salary</th>\n",
              "    </tr>\n",
              "  </thead>\n",
              "  <tbody>\n",
              "    <tr>\n",
              "      <th>28</th>\n",
              "      <td>10.3</td>\n",
              "      <td>122391.0</td>\n",
              "    </tr>\n",
              "    <tr>\n",
              "      <th>29</th>\n",
              "      <td>10.5</td>\n",
              "      <td>121872.0</td>\n",
              "    </tr>\n",
              "  </tbody>\n",
              "</table>\n",
              "</div>\n",
              "      <button class=\"colab-df-convert\" onclick=\"convertToInteractive('df-46248d6e-1cc8-4424-bde1-19976ea838e5')\"\n",
              "              title=\"Convert this dataframe to an interactive table.\"\n",
              "              style=\"display:none;\">\n",
              "        \n",
              "  <svg xmlns=\"http://www.w3.org/2000/svg\" height=\"24px\"viewBox=\"0 0 24 24\"\n",
              "       width=\"24px\">\n",
              "    <path d=\"M0 0h24v24H0V0z\" fill=\"none\"/>\n",
              "    <path d=\"M18.56 5.44l.94 2.06.94-2.06 2.06-.94-2.06-.94-.94-2.06-.94 2.06-2.06.94zm-11 1L8.5 8.5l.94-2.06 2.06-.94-2.06-.94L8.5 2.5l-.94 2.06-2.06.94zm10 10l.94 2.06.94-2.06 2.06-.94-2.06-.94-.94-2.06-.94 2.06-2.06.94z\"/><path d=\"M17.41 7.96l-1.37-1.37c-.4-.4-.92-.59-1.43-.59-.52 0-1.04.2-1.43.59L10.3 9.45l-7.72 7.72c-.78.78-.78 2.05 0 2.83L4 21.41c.39.39.9.59 1.41.59.51 0 1.02-.2 1.41-.59l7.78-7.78 2.81-2.81c.8-.78.8-2.07 0-2.86zM5.41 20L4 18.59l7.72-7.72 1.47 1.35L5.41 20z\"/>\n",
              "  </svg>\n",
              "      </button>\n",
              "      \n",
              "  <style>\n",
              "    .colab-df-container {\n",
              "      display:flex;\n",
              "      flex-wrap:wrap;\n",
              "      gap: 12px;\n",
              "    }\n",
              "\n",
              "    .colab-df-convert {\n",
              "      background-color: #E8F0FE;\n",
              "      border: none;\n",
              "      border-radius: 50%;\n",
              "      cursor: pointer;\n",
              "      display: none;\n",
              "      fill: #1967D2;\n",
              "      height: 32px;\n",
              "      padding: 0 0 0 0;\n",
              "      width: 32px;\n",
              "    }\n",
              "\n",
              "    .colab-df-convert:hover {\n",
              "      background-color: #E2EBFA;\n",
              "      box-shadow: 0px 1px 2px rgba(60, 64, 67, 0.3), 0px 1px 3px 1px rgba(60, 64, 67, 0.15);\n",
              "      fill: #174EA6;\n",
              "    }\n",
              "\n",
              "    [theme=dark] .colab-df-convert {\n",
              "      background-color: #3B4455;\n",
              "      fill: #D2E3FC;\n",
              "    }\n",
              "\n",
              "    [theme=dark] .colab-df-convert:hover {\n",
              "      background-color: #434B5C;\n",
              "      box-shadow: 0px 1px 3px 1px rgba(0, 0, 0, 0.15);\n",
              "      filter: drop-shadow(0px 1px 2px rgba(0, 0, 0, 0.3));\n",
              "      fill: #FFFFFF;\n",
              "    }\n",
              "  </style>\n",
              "\n",
              "      <script>\n",
              "        const buttonEl =\n",
              "          document.querySelector('#df-46248d6e-1cc8-4424-bde1-19976ea838e5 button.colab-df-convert');\n",
              "        buttonEl.style.display =\n",
              "          google.colab.kernel.accessAllowed ? 'block' : 'none';\n",
              "\n",
              "        async function convertToInteractive(key) {\n",
              "          const element = document.querySelector('#df-46248d6e-1cc8-4424-bde1-19976ea838e5');\n",
              "          const dataTable =\n",
              "            await google.colab.kernel.invokeFunction('convertToInteractive',\n",
              "                                                     [key], {});\n",
              "          if (!dataTable) return;\n",
              "\n",
              "          const docLinkHtml = 'Like what you see? Visit the ' +\n",
              "            '<a target=\"_blank\" href=https://colab.research.google.com/notebooks/data_table.ipynb>data table notebook</a>'\n",
              "            + ' to learn more about interactive tables.';\n",
              "          element.innerHTML = '';\n",
              "          dataTable['output_type'] = 'display_data';\n",
              "          await google.colab.output.renderOutput(dataTable, element);\n",
              "          const docLink = document.createElement('div');\n",
              "          docLink.innerHTML = docLinkHtml;\n",
              "          element.appendChild(docLink);\n",
              "        }\n",
              "      </script>\n",
              "    </div>\n",
              "  </div>\n",
              "  "
            ]
          },
          "metadata": {},
          "execution_count": 39
        }
      ]
    },
    {
      "cell_type": "code",
      "source": [
        "df.shape"
      ],
      "metadata": {
        "colab": {
          "base_uri": "https://localhost:8080/"
        },
        "id": "Xptc1dXCA8AE",
        "outputId": "b57f0839-6d8b-472c-d770-6d60b095e4f2"
      },
      "execution_count": 40,
      "outputs": [
        {
          "output_type": "execute_result",
          "data": {
            "text/plain": [
              "(30, 2)"
            ]
          },
          "metadata": {},
          "execution_count": 40
        }
      ]
    },
    {
      "cell_type": "markdown",
      "source": [
        "**Visualize the data**  \n",
        "To select a particular column, there are two methods.  \n",
        "1. Using dot - df.YearsExperience  \n",
        "2. Using Square Brackets  - df['YearsExperience']"
      ],
      "metadata": {
        "id": "iGSTy8QCoIGr"
      }
    },
    {
      "cell_type": "code",
      "source": [
        "# df.YearsExperience, df.Salary"
      ],
      "metadata": {
        "id": "6kzhX_I-Erm5"
      },
      "execution_count": 41,
      "outputs": []
    },
    {
      "cell_type": "code",
      "source": [
        "# df[\"YearsExperience\"], df['Salary`']"
      ],
      "metadata": {
        "id": "ncA_mDouE0qc"
      },
      "execution_count": 42,
      "outputs": []
    },
    {
      "cell_type": "code",
      "source": [
        "# Plot the scatter diagram\n",
        "plt.scatter(df.YearsExperience, df['Salary'])"
      ],
      "metadata": {
        "id": "lAw_OAeamXyA",
        "colab": {
          "base_uri": "https://localhost:8080/",
          "height": 448
        },
        "outputId": "c70d8d27-3d9d-441b-9856-3a6f00b29503"
      },
      "execution_count": 43,
      "outputs": [
        {
          "output_type": "execute_result",
          "data": {
            "text/plain": [
              "<matplotlib.collections.PathCollection at 0x7fb910ccf430>"
            ]
          },
          "metadata": {},
          "execution_count": 43
        },
        {
          "output_type": "display_data",
          "data": {
            "text/plain": [
              "<Figure size 640x480 with 1 Axes>"
            ],
            "image/png": "[encoded data removed]"
          },
          "metadata": {}
        }
      ]
    },
    {
      "cell_type": "markdown",
      "source": [
        "**Split the dataset into X and y**  \n",
        "***X*** is the input feature (years of exp) and ***y*** is the target variable that we are trying to predict (salary)  "
      ],
      "metadata": {
        "id": "V4EkDejIo_xE"
      }
    },
    {
      "cell_type": "code",
      "source": [
        "X = df.iloc[:, :-1].values\n",
        "y = df.iloc[:, -1].values\n",
        "\n",
        "X.shape, y.shape"
      ],
      "metadata": {
        "id": "fKtg2XmcoNoF",
        "colab": {
          "base_uri": "https://localhost:8080/"
        },
        "outputId": "3f4945dc-d561-47f6-b95f-bb9b585c3078"
      },
      "execution_count": 44,
      "outputs": [
        {
          "output_type": "execute_result",
          "data": {
            "text/plain": [
              "((30, 1), (30,))"
            ]
          },
          "metadata": {},
          "execution_count": 44
        }
      ]
    },
    {
      "cell_type": "markdown",
      "source": [
        "**Splitting the dataset into the Training set and Test set**"
      ],
      "metadata": {
        "id": "klw-YbnwpgwZ"
      }
    },
    {
      "cell_type": "code",
      "source": [
        "# import train_test_split from sklearn.model_selection and train the dataset to train and test sets\n",
        "\n",
        "from sklearn.model_selection import train_test_split\n",
        "X_train, X_test, y_train, y_test = train_test_split(X, y, test_size=1/3)\n",
        "\n",
        "\n"
      ],
      "metadata": {
        "id": "FiMrjBi_pdbS"
      },
      "execution_count": 45,
      "outputs": []
    },
    {
      "cell_type": "code",
      "source": [
        "X_train.shape, y_train.shape, X_test.shape, y_test.shape"
      ],
      "metadata": {
        "colab": {
          "base_uri": "https://localhost:8080/"
        },
        "id": "MyC8FmUaKtZv",
        "outputId": "15caf94b-2aba-4d2e-96d9-17c8ec212c69"
      },
      "execution_count": 46,
      "outputs": [
        {
          "output_type": "execute_result",
          "data": {
            "text/plain": [
              "((20, 1), (20,), (10, 1), (10,))"
            ]
          },
          "metadata": {},
          "execution_count": 46
        }
      ]
    },
    {
      "cell_type": "markdown",
      "source": [
        "**Training the Simple Linear Regression model on the Training set**"
      ],
      "metadata": {
        "id": "gknRLDqXp204"
      }
    },
    {
      "cell_type": "code",
      "source": [
        "# Load the LinearRegressor from sklearn.linear_model and fit the data\n",
        "from sklearn.linear_model import LinearRegression\n",
        "regressor = LinearRegression()\n",
        "regressor.fit(X_train, y_train)"
      ],
      "metadata": {
        "id": "3weIQZ35pkNW",
        "colab": {
          "base_uri": "https://localhost:8080/",
          "height": 74
        },
        "outputId": "19ec6f8f-a560-4bc0-81a7-9e6b819aee22"
      },
      "execution_count": 47,
      "outputs": [
        {
          "output_type": "execute_result",
          "data": {
            "text/plain": [
              "LinearRegression()"
            ],
            "text/html": [
              "<style>#sk-container-id-3 {color: black;background-color: white;}#sk-container-id-3 pre{padding: 0;}#sk-container-id-3 div.sk-toggleable {background-color: white;}#sk-container-id-3 label.sk-toggleable__label {cursor: pointer;display: block;width: 100%;margin-bottom: 0;padding: 0.3em;box-sizing: border-box;text-align: center;}#sk-container-id-3 label.sk-toggleable__label-arrow:before {content: \"▸\";float: left;margin-right: 0.25em;color: #696969;}#sk-container-id-3 label.sk-toggleable__label-arrow:hover:before {color: black;}#sk-container-id-3 div.sk-estimator:hover label.sk-toggleable__label-arrow:before {color: black;}#sk-container-id-3 div.sk-toggleable__content {max-height: 0;max-width: 0;overflow: hidden;text-align: left;background-color: #f0f8ff;}#sk-container-id-3 div.sk-toggleable__content pre {margin: 0.2em;color: black;border-radius: 0.25em;background-color: #f0f8ff;}#sk-container-id-3 input.sk-toggleable__control:checked~div.sk-toggleable__content {max-height: 200px;max-width: 100%;overflow: auto;}#sk-container-id-3 input.sk-toggleable__control:checked~label.sk-toggleable__label-arrow:before {content: \"▾\";}#sk-container-id-3 div.sk-estimator input.sk-toggleable__control:checked~label.sk-toggleable__label {background-color: #d4ebff;}#sk-container-id-3 div.sk-label input.sk-toggleable__control:checked~label.sk-toggleable__label {background-color: #d4ebff;}#sk-container-id-3 input.sk-hidden--visually {border: 0;clip: rect(1px 1px 1px 1px);clip: rect(1px, 1px, 1px, 1px);height: 1px;margin: -1px;overflow: hidden;padding: 0;position: absolute;width: 1px;}#sk-container-id-3 div.sk-estimator {font-family: monospace;background-color: #f0f8ff;border: 1px dotted black;border-radius: 0.25em;box-sizing: border-box;margin-bottom: 0.5em;}#sk-container-id-3 div.sk-estimator:hover {background-color: #d4ebff;}#sk-container-id-3 div.sk-parallel-item::after {content: \"\";width: 100%;border-bottom: 1px solid gray;flex-grow: 1;}#sk-container-id-3 div.sk-label:hover label.sk-toggleable__label {background-color: #d4ebff;}#sk-container-id-3 div.sk-serial::before {content: \"\";position: absolute;border-left: 1px solid gray;box-sizing: border-box;top: 0;bottom: 0;left: 50%;z-index: 0;}#sk-container-id-3 div.sk-serial {display: flex;flex-direction: column;align-items: center;background-color: white;padding-right: 0.2em;padding-left: 0.2em;position: relative;}#sk-container-id-3 div.sk-item {position: relative;z-index: 1;}#sk-container-id-3 div.sk-parallel {display: flex;align-items: stretch;justify-content: center;background-color: white;position: relative;}#sk-container-id-3 div.sk-item::before, #sk-container-id-3 div.sk-parallel-item::before {content: \"\";position: absolute;border-left: 1px solid gray;box-sizing: border-box;top: 0;bottom: 0;left: 50%;z-index: -1;}#sk-container-id-3 div.sk-parallel-item {display: flex;flex-direction: column;z-index: 1;position: relative;background-color: white;}#sk-container-id-3 div.sk-parallel-item:first-child::after {align-self: flex-end;width: 50%;}#sk-container-id-3 div.sk-parallel-item:last-child::after {align-self: flex-start;width: 50%;}#sk-container-id-3 div.sk-parallel-item:only-child::after {width: 0;}#sk-container-id-3 div.sk-dashed-wrapped {border: 1px dashed gray;margin: 0 0.4em 0.5em 0.4em;box-sizing: border-box;padding-bottom: 0.4em;background-color: white;}#sk-container-id-3 div.sk-label label {font-family: monospace;font-weight: bold;display: inline-block;line-height: 1.2em;}#sk-container-id-3 div.sk-label-container {text-align: center;}#sk-container-id-3 div.sk-container {/* jupyter's `normalize.less` sets `[hidden] { display: none; }` but bootstrap.min.css set `[hidden] { display: none !important; }` so we also need the `!important` here to be able to override the default hidden behavior on the sphinx rendered scikit-learn.org. See: https://github.com/scikit-learn/scikit-learn/issues/21755 */display: inline-block !important;position: relative;}#sk-container-id-3 div.sk-text-repr-fallback {display: none;}</style><div id=\"sk-container-id-3\" class=\"sk-top-container\"><div class=\"sk-text-repr-fallback\"><pre>LinearRegression()</pre><b>In a Jupyter environment, please rerun this cell to show the HTML representation or trust the notebook. <br />On GitHub, the HTML representation is unable to render, please try loading this page with nbviewer.org.</b></div><div class=\"sk-container\" hidden><div class=\"sk-item\"><div class=\"sk-estimator sk-toggleable\"><input class=\"sk-toggleable__control sk-hidden--visually\" id=\"sk-estimator-id-3\" type=\"checkbox\" checked><label for=\"sk-estimator-id-3\" class=\"sk-toggleable__label sk-toggleable__label-arrow\">LinearRegression</label><div class=\"sk-toggleable__content\"><pre>LinearRegression()</pre></div></div></div></div></div>"
            ]
          },
          "metadata": {},
          "execution_count": 47
        }
      ]
    },
    {
      "cell_type": "markdown",
      "source": [
        "**Predicting the Test set results**"
      ],
      "metadata": {
        "id": "iLE0F-lgq7FO"
      }
    },
    {
      "cell_type": "code",
      "source": [
        "# Make predictions with test data\n",
        "y_pred = regressor.predict(X_test)"
      ],
      "metadata": {
        "id": "YFzCVQs_p41v"
      },
      "execution_count": 48,
      "outputs": []
    },
    {
      "cell_type": "code",
      "source": [
        "regressor.predict(np.array([7]).reshape(1, -1))"
      ],
      "metadata": {
        "colab": {
          "base_uri": "https://localhost:8080/"
        },
        "id": "lG4uzYhw9JEA",
        "outputId": "02576110-169f-4589-ab34-38bd3a8befd2"
      },
      "execution_count": 49,
      "outputs": [
        {
          "output_type": "execute_result",
          "data": {
            "text/plain": [
              "array([92548.93052242])"
            ]
          },
          "metadata": {},
          "execution_count": 49
        }
      ]
    },
    {
      "cell_type": "markdown",
      "source": [
        "**Visualising the Training set results**"
      ],
      "metadata": {
        "id": "YwxwF1k_q_t8"
      }
    },
    {
      "cell_type": "code",
      "source": [
        "plt.scatter(X_train, y_train, color='red')\n",
        "\n",
        "plt.plot(X_train, regressor.predict(X_train), color = 'blue')\n",
        "\n",
        "\n",
        "plt.xlabel('Years of Experience')\n",
        "plt.ylabel('Salary')\n",
        "plt.title('Salary vs Experience (Train set)')"
      ],
      "metadata": {
        "id": "QxwgSV4gqhok",
        "colab": {
          "base_uri": "https://localhost:8080/",
          "height": 490
        },
        "outputId": "a86ea273-06df-4d7c-c0bc-04458efdd2ce"
      },
      "execution_count": 50,
      "outputs": [
        {
          "output_type": "execute_result",
          "data": {
            "text/plain": [
              "Text(0.5, 1.0, 'Salary vs Experience (Train set)')"
            ]
          },
          "metadata": {},
          "execution_count": 50
        },
        {
          "output_type": "display_data",
          "data": {
            "text/plain": [
              "<Figure size 640x480 with 1 Axes>"
            ],
            "image/png": "[encoded data removed]"
          },
          "metadata": {}
        }
      ]
    },
    {
      "cell_type": "markdown",
      "source": [
        "**Visualising the Test set results**"
      ],
      "metadata": {
        "id": "fPNiq42grIJe"
      }
    },
    {
      "cell_type": "code",
      "source": [
        "plt.scatter(X_test, y_test, color = 'red')\n",
        "plt.plot(X_train, regressor.predict(X_train), color = 'blue')\n",
        "plt.title('Salary vs Experience (Test set)')\n",
        "plt.xlabel('Years of Experience')\n",
        "plt.ylabel('Salary')\n",
        "plt.show()"
      ],
      "metadata": {
        "id": "m8FJUxFnrCVC",
        "colab": {
          "base_uri": "https://localhost:8080/",
          "height": 472
        },
        "outputId": "9f72bbdd-5ea2-4125-bf70-f1f8d529b721"
      },
      "execution_count": 51,
      "outputs": [
        {
          "output_type": "display_data",
          "data": {
            "text/plain": [
              "<Figure size 640x480 with 1 Axes>"
            ],
            "image/png": "[encoded data removed]"
          },
          "metadata": {}
        }
      ]
    },
    {
      "cell_type": "markdown",
      "source": [
        "# Evaluating the models\n",
        "**Mean Squared Error**  \n",
        "In regression, the mean squared error represents the average squared residual.  "
      ],
      "metadata": {
        "id": "t8nFMP__rNZ7"
      }
    },
    {
      "cell_type": "markdown",
      "source": [
        "![image.png](data:image/png;base64,iVBORw0KGgoAAAANSUhEUgAAArMAAAFECAYAAAA0mLYnAAAgAElEQVR4nOzdd3hUZfo+8Ht6SS+QTkihQyjSkaIrKiqKIgiKCyq4ukW/qyuiq2xRXFZXV1jbrgKKroAu/BBFmtJVpJfQDZAC6ZVk+sz5/REzEhNSYGbOvDP357pyRWfOnPMcBk7uPPOe91VIkiSBiIiIiEhASrkLICIiIiK6UgyzRERERCQshlkiIiIiEhbDLBEREREJi2GWiIiIiITFMEtEREREwmKYJSIiIiJhMcwSERERkbAYZomIiIhIWAyzRERERCQshlkiIiIiEhbDLBEREREJi2GWiIiIiITFMEtEREREwmKYJSIiIiJhMcwSERERkbDUchfgLZIkoba2Fmp1wJ4iEZEQnE4nDAYDVCqV3KUQUQAK2KRXVVWFG264AWfPnpW7FCKioBYVFYX//ve/GDp0qNylEFEACtgwq9frERsbi88++wzR0dFyl0NEFJSsVitefvllaDQauUshogAVsGEWABQKBQwGA4xGo9ylEBEFJZVKxSBLRF7FG8CIiIiISFgMs0REREQkLIZZIiIiIhIWwywRERERCYthloiIiIiEFdCzGRAR0ZWTADhdLkgSoFIqoFQo5C6JiKgJhlkiImpEkoAaix2H8quw51wlaix2ZHYIxbCMGKTFhkClZKglIv/BMEtERI2YbA6sPXwB/952BvmVZrgkCTq1EsPSY/DUzd3RKzFc7hKJiNw4ZpaIiNwkCSioNGP1wQvIqzDBJUkAAKvDhZ0/lOHzQxdgsbtkrpKI6CcMs0RE5OaSJBRVW1BUbYH0s+ccLglnympRbbbJUhsRUXMYZomIyE2hAAw6FXTqpj8eFABCtGro1CrfF0ZEdBkMs0RE5KZUKJAabcRfNr6NaQfXN3rOqFVjVNcOCDfwdgsi8h8Ms0RE1EiHMB0GH9iKyaVHEKJVQaNSomOYDn+8tTtu7hXPKbqIyK/w12siImpEqVBAqVQgKyUSq38zAlVmO7rGhSHCoJG7NCKiJhhmiYioKUkCFAp0iQuTuxIiohZxmAERETWPwwmISAAMs0RE1JT084m5iIj8E8MsERE1j51ZIhIAwywRETXFziwRCYJhloiImsfOLBEJgGGWiIiaYmeWiATBMEtERE39ODUXEZG/Y5glIqLmMcwSkQAYZomIqCkOMyAiQTDMEhFR89iZJSIBMMwSEVFT7MwSkSAYZomIqHnszBKRABhmiYioKXZmiUgQDLNERNQ8dmaJSAAMs0RE1BTnmSUiQTDMEhFRUxxmQESCUMtdwM9VV1dj7969OHXqFLp164bhw4dDr9dDkiRs3rwZp0+fRmpqKkaMGIHw8HC5yyUiClzszBKRAPyuM1tVVYXs7Gzs2LEDa9asgdlsBgCsW7cO8+fPh9lsxmeffYYvvvgCLpdL5mqJiAIUO7NEJAi/68ympKTgkUceQUREBPbu3QtJkuB0OvHKK6/goYcewqRJk7BhwwasX78eY8aMQWJiovu1JpMJubm5MJlMsFqtsFqtMp4JEZHg2JklIgH4XZhVKpXQ6XRQqVTux8rKylBQUICRI0dCp9MhOTkZNpsNlZWVjcJsWVkZVq9ejby8PDgcDlRXV8txCkRE4mNnlogE4Xdhtjk2mw2SJEGv1wOoD7wA4HQ6G22XkpKC2bNnQ5IkmM1mTJo0yee1EhEFDHZmiUgAfjdmtjmRkZEwGo04d+4cJElCbW0tVCoVQkJCGm2nUCigUqmgVquhVguR04mI/BOn5iIiQfhd4rNarcjPz0deXh7Kyspw4sQJ9OzZE7fffjs++OAD2O127Ny5E6mpqYiLi5O7XCKiwMRhBkQkCL/rzNbW1mLHjh0oKiqCwWDAtm3bcP78efz6179GamoqNm/eDL1ejwkTJjTpzBIRkQexM0tEAvC7zmxERARuv/123HzzzQDqx8dGRERAp9PhkUcegcVigU6nQ1hYGBS80BIReQc7s0QkCL8Ls2q1GjExMc0+FxERgYiICB9XREQUpNgwICIB+N0wAyIi8gPszBKRIBhmiYioeezMEpEAGGaJiKgpdmaJSBAMs0RE1BTnmSUiQTDMEhFR8xhmiUgADLNERNQUhxkQkSAYZomIqHnszBKRABhmiYioKXZmiUgQDLNERO0gAXC4JDhdQRD22JklIgH43QpgRET+ymRzIr/ChPNVZujUSqTGhCA+Qg+1MgBDHzuzRCQIhlkiojYw2RxYc/ACVuzJR8lFKzQqJXonhWPmyDRkJUdCGWhdTE7NRUSCYJglImqDvecqsXDzD7hQZXY/lltehyqTDW/ddw3CDRoZq/MShlkiEgDHzBIRtcJqd2H32QoU11gaPS4B2HW2AieLLspTmDdxmAERCYJhloioFU7JhVqrA65mAp7DKaHG4pChKh9gZ5aIBMAwS0TUCp1ahbTYEOhUjS+ZCgARBjW6dAyVpzBvYmeWiATBMEtE1AqVUoGxPeMwLCMGGqUSCgBKhQIhOjUeu74LEiL0cpfoHezMEpEAeAMYEVEbJEYaMHd8L6zaX4CzZXXQa1QYmh6Dm3vHQ6MOsL4Au7JEJBCGWSKitpg0CWl9+uDxPz6PKpMNapUSYXo1VIE4x2wDdmaJSAAMs0REbbF/P1BTA7VKgdgwndzVeFdDZ5ZhlogEEGCfjREReYnLBSiD5JLJYQZEJJAguTITEV2lYAqzDdiZJSIBBNmVmYjoCgVTmGVnlogEEiRXZiKiqxRMYbYBO7NEJIAguzITEV0hlyt4wh07s0QkEIZZIqK2YGeWiMgvBdmVmYjoCgVTmOXUXEQkEM4zS0Q+VWdz4EKVGXq1CgkRBqhVggSmYAyzREQCYJglIp9wuCTsz63Ekm/O4kRRDbRqFUZ2icXMkemID9fLXV7rJCl4wmwDdmaJSAAMs0TkE+fK6vDqxpPYm1sJp6u+83e2tA51Vgfm3dkHSn8PTuzMEhH5pSC5MhOR3PblVmJf3k9BFgBsThf+34HzOFdukrGyNgqmMNvA33/BICICwywR+UhBpQkOp4QYUzW6luUhzFofYC12F3LL62Surg2CKcyyM0tEAgmSKzMRyS0l2gidWon7D6zFxkW/ht5hBQCE6NToHBMic3VtEExhtgE7s0QkgCC7MhORXK5JjcKwjBiofgyESgmIMGhw94AkccJssIQ7dmaJSCC8AYyIfCIlyohHx2TA/HUkAGBU11ik9UnHbX0TxciIwdSZ5TyzRCQQhlki8gmtWomBqdGwZ8QCAJ4c2wXhGZ1h0KhkrqyNginMNmCYJSIBMMwSkc+olAqofgyv8eF6QCtIkAWCK8xymAERCSRIrsxE5Dcaun2iBSYumkBE5JeC7MpMRLITMcy6XPXfgyXMivTeEFHQC5IrMxH5DYZZcbAzS0QCEGbMrNlsxoYNG3DhwgUYjUYMGjQIPXr0gDLYfrgQBQqGWf8l0ntDREFPmCvzmjVrsHz5coSFheHChQtYunQpioqK5C6LiNqLnVn/x6m5iEggwlyZc3JyoFarccstt6Bv376orKyExWJptI0kSbDb7bBarbBarZBE+mFJFCxEDEgNYVbE2q9GsJ0vEQlJmGEGM2bMwOzZszFu3DhERETgwQcfRHJycqNtTp48iXnz5uHkyZNwuVwwmUwyVUtEl8XOrP8T6b0hoqAnTJjdsmULKisr8fLLL+PIkSP4+uuvMXz4cKSmprq36dKlC9555x04HA5YLBbcf//9MlZMRM1imBUHO7NEJABhrsxLlizBPffcgxEjRmDs2LGw2+0oKChotI1KpUJISAgiIiIQHh7Om8OI/BHDrP8T6b0hoqAnTGd21KhR2Lp1K8LDw5Gfn4+QkBB07NhR7rKI6EqJFJgaag2WMNuAnVkiEoAwV+bHH38cw4cPx759+2A2m/HAAw8gPT1d7rKIqL3YmfV/Ir03RBT0hOnMRkREYObMmXKXQURXi2HW/3FqLiISSJBcmYnIb4gYkIItzDYQ8b0ioqATZFdmIpIdO7P+T6T3hoiCXpBcmYnIb4gcZoOtUxls50tEQhJmzCwReZ/Z5kROaS32nKtErdWOngnh6JMUgdgwHZSeCjYih1l2ZomI/A7DLBEBAOxOF77MLsTbW3OQU1oLSEBUiBbjsxLwqzEZSIwwePaAIgWmYA2z7MwSkQCC5MpMRK0pvWjFR7tykVNaC0kCJAAVdTasOVSIPWcr4HJ5KHyyM0tERB7EKzMRAQB+KKlDXrmpScasNNlw5Hw1rA6XZw7EMOv/2JklIoEEyZWZiFqj1yihUjYNL0qFAgaNCgpPXS1EDEhcAYyIyG8F2ZWZiC4ns2MoeiWGQ/WzAJMYqcc1qVHQqVSeORA7s/5PpPeGiIJekFyZiag1kUYNZhtL8eFX/8Tg88ehAJAUacCM4Z0xIDXKc006hllxsDNLRALgbAZEBKB+OEH3uBAo9n6FuF/eg7M3DESPhHDEh+ubHX5wxRhm/Z9I7w0R+RWr1Qqr1QqHwwFJkqDVamE0GqHy1Kd7zWCYJSI3xY+hLSMuHBk94rx7MJECU7CGWXZmiagdysvL8dJLL6GkpAQOhwPFxcWw2Wx46qmncMstt0Cj0XjluAyzRPQTX9zoJHJnNtjCXbCdLwnJYrHg+eefh8lkavNrlEolxo0bh1tuucWLlQWfU6dOYdWqVfjggw8wfPhwlJWVYdKkSVi8eDEGDx6MhIQErxyXYZaIfuKLDqTIYTbYOrNEAtBqtQgPD8c//vEPAMBrr72Gm2++ucl2FosFq1atwsKFC2EymRAbG9timK2oqMCKFSvwww8/4NVXX/Va/b5UU1ODv/3tb/jyyy8xefJk/P73v4fRaGzxNS6XCytXrsS+ffswa9YsZGRkXHbbfv36YfPmzejUqRNUKhXi4+PRu3dvnDp1CjabzdOn4xYkV2YiahNfhlmRBFuYbSDie0VBR6lU4rnnnsOoUaMAAB9++CE6d+6MHj16NPrq378/nn32WYwdO7bF/blcLhw4cADjx4/Hhg0bMGnSJF+chldJkoTi4mJMmTIFCxYsQEFBAV544QW89tprsFgsLb5WqVRi2LBhMJvNuO6667Bo0aLLvsZgMCAtLc09PtbhcKCgoABdunRBVFSUx8/LXaPX9kxE4mFntnnBFmZFem+IACgUCjz11FOIi4vDgQMHMHv2bNjt9ibbGQwG/Pa3v73sfhwOBzZt2oQpU6bg+uuvx6JFizB06FBvlu51kiTh4MGD+N3vfoeLFy9iwYIF+O677zBnzhx8+OGHeOaZZ3D27NkW95GcnIwFCxZg/vz5eO211/Dyyy+jurq6xdfY7Xa8+eabMJvN+M1vfoPw8HBPnlYjQXJlJqI28cXYUBHDLBdNIPJ7I0eOxN133w2NRoNFixbhyy+/bHa7QYMGITY2ttnnDh06hD/84Q8YPnw4nnzyScTExHizZJ8wm8345JNP0Lt3b7z77ruYNWsWunbtijlz5mDRokWwWq1Yvnx5qx1aALj33nvx3HPP4eOPP8batWvhcjW/MqTdbsdHH32EdevW4bXXXkOfPn08fVqNcMwsEf3Elx1IkcIsO7NEfi88PByPPPIIvv76a5w4cQKvvfYa+vfvj06dOjXaLiQkBLt27UJYWFijx00mE9577z3k5+dj7dq1iIyM9GX5XqPX6/HEE08gLCwMer2+0ePXXnst+vbtC6vVCq1W26b9jRs3DuvWrcPbb7+NCRMmNBlz63Q6sWLFCmzevBnvv/8+4uPjPXo+zQmSKzMRtQmHGTQvWMMsO7MkEIVCgd69e+Ohhx6CUqnEnj178NFHH8FqtTbZNjU1FdHR0Y0eO3r0KLZs2YIJEyY0CcBA/Vja6upqFBQUoKioCA6Ho9FzZWVlyM/PR35+fpu6nL5SW1sLq9WK6upqOJ3ORs8VFhaiqqrKPTdsW0RGRuLmm2/G4cOHsX79+ibPHzp0CBs3bsTcuXMRHx8Pp9OJqqqqZod9eEqQXJmJqE04NVfzgi3MNmCYJQH95je/wdixY2E2m/HRRx/hwIEDrb7G5XLh6NGjyMnJwYQJE5p9/tChQ3j33XcxdepUDBw4EJs2bXI/bzab8frrr6NXr17o1KkT9uzZ49FzulKHDx/Gf/7zH8yYMQMjRozA999/3+j5F154AZ06dXLPQtBWPXv2RGpqKt5+++1Gj1dWVmLu3Lmw2WzYuXMnli5dirfeeguzZs3C0aNHPXJOzQmyKzMRtYizGTQv2MKsSL9oEP2MwWDAv/71L3Tu3BnHjx93T9nVEpvNhj179sBgMKBXr15NnrdYLNi9ezeuu+46zJ8/H4WFhVixYoV7btuQkBDccccdSElJQffu3ZGVleXx82ovq9WKxYsXY8KECXj22Wdhs9mwePHiRtu88sorAICuXbuia9eubd53XFwcoqOjsX37dlRWVrofX7ZsGdauXYsVK1bgwQcfxPTp0/HYY4/h5MmTXlswAeCYWSK6FIcZNI+LJhAJJTMzE0888QQee+wxrFmzBitWrMA999xz2e1dLheKi4uRmJgInU7X5Hm9Xo97770XRqMRkiQhISEBZ86cQWFhYZN5Vx9++GFERER4/JzaS6vV4vnnn0dMTAzUajUyMzPx+eefN9rG6XRCrVZj8ODBSE9Pb/O+O3bsiMjISNhsNuTn57un3ZoyZUqzc/dqtVp06NDh6k6oBUHSZiCiNmGYbR47s0RCUSgUuO222zB69GgolcpWp4VyOBz44YcfoFKpoGjmlzilUomwsDCoVCp3+CspKUFpaSmA+umvjh49CpVKhRkzZjR67blz53DhwoVWa543bx4UCkW7v1r6M2iYjSE6OhpxcXEoKSnBmTNn3NusW7cOHTt2xPTp091zwzYE+9LSUkiXuRaoVCoof7wenjp1yv14dHQ0Onfu3OQrMTGRnVki8hGG2eYFW5htwM4sCezMmTMoKirCzJkzMW7cOI/ue9iwYdi6dSvKysoAANXV1di6dSumT5+O0NBQ93ZVVVXo168fxo4di08//bTFffbr1w8PPfSQR+tsEB4ejrS0NKjVapw4cQLp6emoqanBokWLMGnSJPTr18+9bUVFBe677z5kZWXhpZdeajQDQnPq6uq8UnN7MMwS0U98+XE6w6z/Eum9IWpGdXU1/vSnPyExMRFPPPGEx/c/ePBgVFZWIi8vDy6XC3v37kVJSQnGjx/fqAOpUCjw73//u03jUW+99VbceuutHq+1QZ8+fRAaGor9+/fjlltuwYYNG1BTU4Nnnnmm0XYhISH4v//7P6SlpbVpuq7Wwq4vMMwS0U/YmW1esC2awKm5SHBPPfUUzp07hzfeeAOdO3dudXuVSoXU1FT88MMPbdp/586dERMTg5KSEjgcDrzzzju45ZZbkJmZ2Wi7iIiIFsfq+lJ6ejoMBgNOnTqF8vJyrFixAr///e8RFxfXaDuDwYDbbrutzfv9+ZhhOQTJlZnIP0iSn2c4htnmBVtntgHDLAnG4XDg/fffx3vvvYeJEyfi5ptvdo/tbIlSqURMTAwKCwthNptb3d5oNKJbt244c+YM3nnnHVRWVuK+++5zH8tsNuOFF15ASEgI9Ho9Ll68eNXndrVSU1Oh1+uxa9curF+/HhEREbjpppsabTN79myEhoZi0KBByM7Ovuy+CgoKUFpaCqVSiZSUFG+X3iqvdmbLyspw4cIFJCcnIyIiwj24mCjYWB0uFFWbkVdhhkoJJEcZkRChh0blZ+HIl/PMiiTYwqxIv2gQXWLv3r145ZVXMHz4cDz//POX/Qh827ZtsFgs7jCn1WoxcOBALF26FKdOnWp1WIBer0eXLl3w/fffY+/evVi6dKn7jn6gvrv5q1/9Clu2bIFarW6y2pgc4uPjER8fj/3792PVqlX49a9/3eTGuJdffhkHDx6EwWBoceWu0tJSVFdXo2/fvk06u3LwapgtLy/HJ598gtDQUHTt2hX9+vVD586d2/RbElGgsNid+OpYMT7dV4CCSjNUSgUyO4RgypBOGJYe41+Blp3Z5gVbmG0g4i8eFLTKysrw73//Gy6XC4sWLUJsbOxlt3366aeRkJDgDrMqlQpZWVlITk7Gpk2bWv2YXavVIikpCWfPnsXChQsxcODAJtvU1dXBYrHgxhtvvLoT86CsrCwcOHAAgwYNwogRI5rNY+fPn8fIkSNbXM73xIkTyMvLc89TKzevXplTU1MxZcoUZGZm4sCBA3juuefwwgsvYN++fV5d1ozInxwvrMG/t5/Bzh/KkFNai1PFF7HpeAkWfnUaF6r8Z8lDAAyzlxNsYVak94boRytXrsSqVavwxz/+Ed26dbvsdtnZ2di7d2+Tx/v06YOhQ4di2bJlqKqqavFYDocDlZWVmDZtGqZOndrsNvn5+SgpKcHo0aPbdyJeYjKZUFZWhuHDh2PWrFnNdq3Pnz+PgoIC9O3bF2p18/3OmpoabN68GTqdDnfddZe3y24Tr3Zm9Xo9evXqhczMTGRlZWHx4sV45513sGrVKowZMwZPP/00EhMTvVkCkaxsThf25VYip7QWTtdPAcHudGF/XhUO5VchKcoAtdJPOmC+mM2AYVYc7MzKora2FufPn4fD4QBQP61SYmJis0P1HA4HLly44B6TGRkZiaSkpEbbOJ1OVFdXo6qqyj0eVKfTISQkBOHh4QgJCQFQP1dqYWFhoxWdLictLQ1Go/GqztOTjhw5grlz52L06NHIyMi47NKppaWleOmllyBJEqKjoxs9FxERgVmzZuG7777Diy++iHnz5jW7gILT6cTy5ctx7NgxLFy4sNkhBJIk4fTp06ioqED//v09c5JXwWq1YsmSJThz5gw+/fRT9/yzP7dz505otdoWfxk4fPgw1q5di+eff77F7q0veTXM1tTU4Pvvv8euXbuQnZ2NlJQUrFy5EklJSViyZAmWLl2KOXPmeLMEIlm5XBLqrE53bntm6xL0LsrBw3f9EXVaA2osdrhcEuBvYdYXoU3EMBss4U6k9yYA5eXl4emnn8b69evhcDhw22234d133212DOOxY8dw3333ITs7GxkZGfjzn/+MadOmuZ83m81Yv3491q9fD7VaDaVSiYsXL+LQoUMIDw/HQw89hF/+8pcA6gPYmjVr8NJLLyE/Px8jR45E37593fuy2+1Yt24dKisrsWPHjkbPyamgoAAzZsxASUkJPv/88yarXDVHrVajU6dOTR4fOXIkZs+ejVdeeQU9evTAPffcg9DQUOTl5eH48eMYOHAgVq1ahX/961/4y1/+gp49eza7f6vVipycHAwYMKBN01t5w/Hjx1FRUYGsrCwsX74cX375Jf72t7+1OPvAt99+C6PRiD59+lz2+aeffhrjx4/H3Xff7Tf3Qnk1zJ4+fRqfffYZBg4ciHvuuQcZGRlQqVSQJAlTp05FTk6ONw9PJDuNSonOsSEI0alhtjuhc9gwIvcgbCoNoowaZHQIhVrlRwGJwwyaF2ydWU7NJauePXti2rRp2Lp1K2pra1FdXY3a2tpmt33nnXfcd50/9thjjYIsAGzatAlPPvkkZs2ahQceeADx8fEwmUxYvHgxHn/8cdx3333ubZVKJSZOnIivvvoK+fn5mDNnTqOlSW02G55++mns2LGjxfGovvbJJ59g//79HtmXVqvFww8/jJiYGLz99ts4ceIEHnjgAezZswfPPfccunXrhqKiIrz++usYM2bMZT+Kd7lcMJvNiImJQVlZGT777DNMnjzZpzdLffHFF1iyZAlSU1NRW1uLOXPm4Be/+EWLr6msrIRKpUJNTQ3WrFmDKVOmICQkBKWlpVi+fDk++OADjBo1Ck8++WSLN4j5mtfCrCRJsNlsGDBgACZPntzo4wiFQoHMzMx2rQNMJCKVUoHBaVEY060DvjxcCJ3DBpdCiZBQAyYPTEHPhDAo/Skw+HI2A4ZZ/+dPfzeDjNlshsvlwowZM7B3795mp3bas2cP/ve//6FPnz44cuQIpk+f3mSbt99+G3Fxcbj77rvd4cNoNGLkyJFQKBQYMmTIZWsYNGhQo/9Xq9XIyspCZWVlo1Wu5Pboo4/igQceaPfrDAZDs49rNBpMnjwZQ4YMwZIlS/D3v/8dKSkpKCkpwfDhw7FgwQL07NmzxaVktVotevXqhf/+97/4zW9+g3nz5qFDhw7trvFqFBQU4Pjx48jIyMCCBQvQr1+/Vm/Av+OOO7Bs2TI89thjmDdvnju7bdmyBXv27MGbb76J/v37y9ZtvhyvhVmFQgGn04mioiLU1tZCo9G433ilUgmVSuU37Wkib0qIMODJG7shvUMIMraq4NDq8Icbu2Fcn3hEGP3rguDTzqxIgi3MivSLRgCSJAlHjx5F37590aFDB1RVVTUJsxcvXsT06dNx22234fTp08jKymr2hp7169dj/PjxTcJn37593WNyL1VZWYkLFy4gMzOzSfhSKpV44IEHrig4epPBYLhsML1SSqUSaWlp+Otf/+p+7MUXX2zz69VqNWbOnImZM2d6tK72WLBgARYsWNCu10ycOLHZG/QnT56MyZMne6o0j/PqMIPw8HAcOnQI//znP91rAiuVSgwePPiy40yIAlFChB6PjM6APVYPTYgBU4Z08p+bvi7FYQbNC7YVwBqI+ItHAKipqcHJkyfRo0cPJCUlNQmzDocD7777LvR6PSZMmIDp06dfdvxiaGgoTpw4gXPnziEhIaHVYxcVFeHkyZMYO3as+zG73Y7ly5fjhhtuaNM+iHzNq2E2LCwM/fv3h1KphMVigUKhgEql4rRcFJSUCgV0Dhtg8KPZC36Osxk0j51Z8qHCwkIUFxdj4sSJUKvVqK2thclkcj9/8uRJrF69Gn/6059gMplQVVWFPn36NPsR8tixY7FmzRrMnj0bS5cuRVpa2mWPK0kScnJyUFFRgcGDB7sfz87OxvPPP48xY8a06zyWLl2KlStXtus1PXr0wOOPP87QTO3i1QPoSSMAACAASURBVDDbqVMnPP74400e12g03jwskf+yWIDLrEjjF9iZbV6whdkG7MzKIjc3FwUFBbjmmmvcw/NOnToFh8MBh8OBjz/+GKmpqbjxxhvx7LPPQqfToVu3bs2G2Xnz5iEvLw/ffPMNevfujU8//bTRTV2XcjqdOHjwIID6yfUBoKKiAm+++SYAIDk5uV3ncezYMaxZs6Zdr6moqJD1o3kSk1fDrEKhQH5+Pr766iucPXsWdrsdKpUKEyZMwMiRI715aCL/ZLEAHh7b5VGcmqt5wRZmRXpvAowkScjLy0PHjh2RmJiIsrIyGAwGWCwWSJKEEydOYPv27Zg/fz4MBgO2bt2K1NTUy95c1KNHDyxevBjPPPMMNm7ciBkzZuBvf/sbpk2b1mQOVZfLhcOHDyM0NBRPPvkkdDodHA4HcnNzMWbMmBZveGrO/PnzMX/+/Cv+s2irkydPoqamxuvHIc8ICwtD9+7dPbpPr4bZnJwcvPrqq8jPz4dOp0NSUhIOHz7sV0u7EfmU2czOLDuz/o9Tc8nGYrHgxIkT6NOnD3Q6HYxGI7p06eJeROGNN97AwIED0bdvX5SVleH48eP4xS9+0eKUT1lZWVi6dClefvllvPXWW5g3bx569uyJYcOGNdqurq4O+/btw7Bhw/D+++8jMTERJpMJv/3tb9GrVy9vn/oVe/TRR7Flyxa5y6A2GjNmjMffL6+G2by8PMTHx2PkyJGorq7GjBkzsGjRokZjf9rDZDKhsLAQNpsNUVFR6NChA2dEILFYLEBUlNxVXB6n5mpesC2a0CDYztcPmEwmnDhxAiNGjIBWq4VOp0NiYiJKS0uxevVqfPPNN/jf//6H0NBQ7Ny5E1arFUlJSU1Ws/q5mJgYvPjiiygtLcWSJUvcofVSBw8exMWLF5GRkeFe1cpoNOKpp55CeHi41875as2fPx/l5eVyl0Ft1Nrf1Svh1TCrVqthMBgQGRmJ7OxsHD16FBUVFVf0j8Jms+HDDz/EkSNHAABDhgzBXXfd5V6Gj0gIHDMrZkAK1s4s+ZzZbEZOTg5mzJgBjUYDtVqNqKgobN26Fbt378acOXPcswF9/fXXMBqN6NGjR5umptJoNJg2bRqWLFmC3NzcJs/v2rULAJCent5oidYePXpc0bk8//zz+Mc//tGu1wwfPhz/+c9/Wlyl6ucuvVmNgpNXw2xGRgasVivS0tKQnZ2Nt956CwaD4YrmKtu4cSPWrl2Lp59+GgkJCTAYDE3G+9jtdlRXV8Nut8NiscDpdHrqVIg8Q5Qxs5zNoLFgC7MNRPzFQ3ANK2M2LLWq1+uRlJSEwsJC9O3bF7NmzXLP475t2zaEhYUhMzOz0T6qqqqQn5+P3r17NxnnarPZoFQq0bt37ybH/vzzzxEfH4+uXbs2ee67777DuHHjcOjQIaSmprbpXBITEzFgwIA2bduga9euTX62E7XGq2E2ISEBsbGx0Gg0ePDBB3H+/HlERUUhJSWl3fv64IMPoNPpsGXLFkiShIEDB+L6669vtJRcSUkJVq9ejQsXLsDhcKCystKTp0N09diZZZgVgUjvTYDZsWMH4uLi3Dd0aTQaxMTEICoqCm+88YZ78YOG1Z06duyIzp07N9rHxo0bMWfOHOzatQsdO3Zs9NyGDRvQvXv3Jt3MiooKHDx4EOnp6U3CalVVFV5//XVkZGS0OcgC9WNZH3300TZvT3SlvBJmt2/fjq1btzb7nEqlwtixY9v9sUBOTg4SEhLwi1/8Arm5uVizZg3S09PRrVs39zYdOnTAXXfdBZvNBovFgn379l3VeRB5HG8AEzPMctEE8oHc3Fx89NFHiIiIgNVqBVA/XG/atGkYOXKke+lZm82GZcuWwWq1wuFwoLa21r0Pu92OY8eOIS8vD7Nnz8bcuXORnp6OCxcuYMmSJVi/fj3mzJnTZDn5NWvWwGw2Izo6utEUXDU1NViwYAG+/PJLPPXUUz74UyBqP6+EWa1We9l1m1Uq1RXNMxseHo4BAwZgyJAhSEhIwIYNG1BcXNwozGq1WvdEy2azuVHXlsgvsDP7E5HCLDuz5GX5+fkYPnw4Lly4AIVCgf/7v//Dp59+ivDwcCQnJzcKmO+//z7+/Oc/w263Iy8vD8888wwWL16M9PR0KBQKjB07FsXFxTh79iy6dOkChUKBhIQEjB8/HsuXL0dWVlaj4QcffPABnnjiCQDAzp07ER8f36g2l8sFSZI4ExH5La+kvaFDh2Lo0KEA6v8ROJ3ORuNXryRk3nTTTcjOzkZlZSWKi4uhUqkuG5iJ/JLNVh+K/HnMLGczaF6whll2Zn0mJSUF58+fb9O2Dz/8MB5++OFmn1Or1RgxYgRGjBjR5mNPnz4d06dPb/P2RP7Gq61Lm82G/fv34+DBg6ipqYFCoYDdbse4cePQv3//du3rwQcfxNy5c7Fw4UI4HA4MGjQIXbp08VLlRF5gNtd/D/bOLMOsOBhmiUgAXg2zZ8+exf/+9z+UlJRAkiRkZmZi165d7nE/7REXF4e5c+ciNzcXBoOhydQhRH7PYqn/LkKY9cVsBiIJtjAr0i8aRBT0vBpm8/PzER4ejr59+6KqqgrTp0/HsmXLUFpaekX7S0pKQlJSkoerJPIRkcIsO7ONBVuYbSDiLx5EFHS8Gma1Wi0MBgNiYmJw7NgxFBQUoKioCHp//mFO5C0NYdafx8wyzDYv2FYAE+m9IQoAZWVlOH36NJxOJ/r27YuwsDCYTCbk5OSgpKQEsbGx6NatG/PTZXi1zZCRkYEBAwaga9euiIuLw8KFC1FbW3tFwwyIPMXudKGkxoKyWht8+iObY2briRxm2ZklIg/Lzs7Gu+++ixUrVuDee+/F4sWLUVdXh/fffx/33HMPbrjhBkyZMgWbN2+Wu1S/5ZUrsyRJyM/Ph9lsxqhRoxAeHg6n04m8vDz07t27XcvUEXlSbnkdXt14CrNXHsbTKw/j39tyUHrR6puDc5hBYwyz/ouzGRD5zD//+U+MGzcOEydOhFarRW5uLj7++GMcPHgQr7/+Ov7whz/g5MmT2LBhA0wmk9zl+iWvDDOw2+14//330bdvX3Tq1Alffvklvv/+e4wYMQL//e9/0bNnTwwaNMgbhya6rNxyE55ddQTfn6uA01X/w/qb06UorrHgd9d3QXSI1rsFiDDMgFNzNS9YwywRed2iRYsAAOvWrYPVaoVarca6devw9ttvIy4uDnq9Hv/4xz+gVquhUqlkrtY/eeXK7HK5kJ+fjz59+qC6uhoFBQV46KGH8Oyzz+Kuu+7C0aNHvXFYosuyO13YcrIEe85VYtSp3Xhw92pIEmBxuLDtZCmOXaiBy9s/wEXqzPpiNgORAhNXACMiL5IkCWfOnEFFRQWWL1+OV199FXFxcQDqlxPWaDRISkqCTqeTuVL/5LUrs0ajQVlZGYqKimC1Wt0rc4WGhsJut3vrsETNMtmcKKg0w+Z0YXB+Np7f/B7CLXUAgItWBwqrLXA4GWZ9OmZWJOzMEpEXmUwmHD9+HCaTCX/5y1+Qlpbmfu6LL75AXFwcevbsKWOF/s0rwwzUajUGDBiAd999F5GRkYiKikJCQgIkScIPP/yAfv36eeOwRJelUSkRrldDpVSgPCQSABBrqkKNPgQ6tRJhejWUSi+HLN4AVk/EzmywhdmICOD228X8xYNIQDU1NcjNzUVsbCwmTZrkfryurg6ffPIJ0tLSuFBUC7wSZlUqFe644w7odDrYbDYMHToUUVFRAID+/ftj4MCB3jgs0WUZtCoMSY9Gyn4Dyo31YTbGVIVzMUnoHh+GbvFhUHs7zCYmAg884N9jZocMqe8gezvMPvAA0Lmz947hacEWZjMzgc8+k7sKoqBRWVmJ48ePIysrC0aj0f34oUOHUF1djQ4dOvDm+RZ4JcwqFArExsbivvvugyRJUF7yA+C2225r9P9EvqAA0C8lCs/e0gP7zh8GAHSFCdE94/HwqHSkRBlb3oEnjB5d/+XPfvnL+i9vGjOm/kskwRZmicinzp8/j5ycHEydOhWKSz4R2b17NxQKBa677jo4nU6cPn0a3bt3l7FS/+TVK7NCoWgSXFUqVaM3ishXdGolruveEbPuHgYAeKRHGOZPzEK/lEioVfw7SS0ItkUTiMinDhw4AI1GgwEDBjTKSGVlZQCA6OhobNmyBStXrpSrRL/GNgMFFY1Kidj0ZABAiv0ioowaqLw9vIDEx84sEXnRgQMHEB8fj5SUlEaP33HHHUhKSsJrr72Gb7/9Fvfee69MFfo3ry5nSwFEuorvV/Nab+zTWT/dCc6UAPkC1CvHvkWp11f7OvhjmP1ACeha2E6kc/LFvoYAmAAiasWyZcuafXzQoEHIz89v9jn6SUCH2RhrDCKvjfyp/yxyIPCHfQUMFYBY4MMS4EO5ayEx/BhmH2dntl1mgWGWiLxOrDDb3KfB3wEYevmXqE5wtQxqTkcAxXIXQcJo+I2OYZaIyN+IE2YL2v8SKfBaiuQxOwBEy11E8xQe/B4M+/JFfXgZwN/qbwBr77FEOUdv7JOXYCLyAfHC7F8BPN+2l9Sp61D7Ti1Cw0LrH5D7gt/e1xSfBTQ6IDbRP+u73Pe7+wPXjAT+uPDq9nX2NKDTAvHJgFrl4XON9uC+PFkXyC+pIdLl0q9Y5S6AiAKdOFfnTT9+n/vjF9DqEAOrygrr3VaExoRe+XF37gSOHQOuuw7w9eob3cfVT7S/ebNvj3u1qoqAunygx1Xu59+LgL//HaisBCIjPVIaERERBRZxBoAdaeaxYbii4QftIknAr34F7Nnj5QM1w+kUcyogl8szdVt/bOnodC1vR0REREFLnKT06Y/f81E/DuuvP/7/Ei8fV875JV0uQCXgDWyeCrM2W/13hlkiIiK6DHHCbMOUUsk//v/YH78317H1JLnDrIidWU91lK1WQK0W88+AiIiIfEKMlLAL9TfGTJbh2Ayz7eepjrLVyq4sERERtUiMpNRwk9enqA+2wE83hN3p5WPLGWY5ZpZhloiIiFokzmwGHwO4F/U3fV1qqpeP2xBmFTLMmSRyZ9ZTY2YZZomIiKgF4iSlqfjppq8GvpiQW+5hBiLeAObJMbNa7dXvh4iIiAKWOGEWqF8sQbrkyxfkDrOidmY5ZpaIiIh8QMCk5GMMs+3HMbNERETkIwImJR+TfmwB8wawtuOYWSIiIvIRAZOSj8ndmRVtzKwksTNLREREPsMw2xq5w6xondmGPy9PjZnlDWBERETUAsGSkgwYZtvHk39e7MwSERFRKwRLSjLgognt43TWf+eYWSIiIvIBwZKSDNiZbR92ZomIiMiHBEtKMpB7BTDRbgDz9JhZhlkiIiJqAcNsa9iZbR9Pd2Z5AxgRERG1QLCkJAO5wqzLVT/NVbCGWacTcDjYmSUiIqIWCZaUZCBnmJXjuFfLUzeAWa313xlmiYiIqAWCJSUZyLUCmCfHnvqSp0I4wywRERG1AcNsa9iZbR9PhXCbrf47wywRERG1QLCkJAO5QqUn52v1JU93ZnkDGBEREbVAsKQEuFwuVFdXo7S0FA6HwxcHrP/OzmzbcMwsERER+ZBQSUmSJOTm5uJPf/oT7r//fpw+fdr7B5U7zHLM7NXth4iIiAKaWu4C2sNsNuO7776DWq1GbGxsk+clSXJ/ORs6hFdLrkUTRO3MeiqEM8wSERFRGwgVZvft24fc3FyMGDECX375ZZPnS0tLsXnzZpSWlsJut6OqqurqDyp3Z1bUMHu1dTfcAMYxs0RERNQCYZJSeXk53nrrLQwYMABhYWGw2Wy4ePEiXA3hCYBSqYRWq4VWq4VGo4HCE91U3gDWPhwzS0RERD4kTGe2sLAQ1dXV+Pzzz1FRUYEjR45g6dKlyMjIQExMDAAgJiYGEyZMgCRJMJvNWLt27dUfmJ3Z9uGYWSIiIvIhYcJsRkYGFi5cCAA4cuQIXC4X7rzzToSHh7u3USgU7m6sylM3TnHRhPbhmFkiIiLyIWHCrMFgQEZGBgCgqqoK0dHRSEpKgkaj8e6B2ZltH0+PmWWYJSIiohYIE2YBuLuuAwcOxMCBA31zUI6ZbR9Pj5nlDWBERETUAsGSkgzYmW0fjpklIiIiHxIsKclA7jDLMbNXtx8iIiIKaAyzrZE7zAZrZ5ZjZomIiKgNBEtKMuAKYO3DMbNERETkQ4IlJRnwBrD24ZhZIiIi8iHBkpIMOMygfThmloiIiHxIsKQkAy6a0D4cM0tEREQ+xDDbGnZm24fDDIiIiMiHBEtKMuCY2fbhDWBERETkQ4IlJRmwM9s+nhwzy64sERERtUKwpCQDucNsMI+ZZZglIiKiVjDMtkbuMCtqZ9YTwwwYZomIiKgVgiUlGXDRhPbx5JhZjpclIiKiVgiWlGTAG8Dah51ZIiIi8iHBkpIMOMygfTw11pdjZomIiKgNBEtKMpA7zAbZDWAuSUKN2Q5LrQlmpRpF1RbYHC4PFkhERESBhGG2NXKvACZaZ/Yqhke4JAlny+rw1tYcFJVUI7/OiT+tOYp12UUw2ZweLpSIiIgCgVruAvyey1V/85evbwALwjGztRYHFu04g88OFeI2mxMmrQabjhXjh5JahOnVuL57Rw8XS0RERKJjmG2NyyVPoBS1M3uFwyMkAGfK6rDxWDHqrA7cNmPBj09IyC2vw5YTJRiSFo0QHf/KEhER0U8ES0oykDvMBsmYWUkCKk02WOxNx8e6JKDKbIOFY2eJiIjoZxhmWyN3mBWtM3uFwyMUCiAxwoBIo6bJc2qlAomRRoRoBQv2RERE5HWCJSUZMMy2zxXWrQCQEm3EpIEpiDRo3EOU1UoFuieEYVzvOOg1DLNERETUGAcgtqbhBjBfE/0GsCsYHmHUqvDgiM6IMmqw+UQp6qwOdIo2YsaIVPROivRwoURERBQIGGZbw85s+1xl3WF6De4bmopb+iTCaneiQ5gOWrVgfwZERETkMwyzrZE7zIp2A5gHOsoqhQKxoVoPFURERESBjC2v1kgSO7PtIWrdREREJCQmjtbI1ZkNwjGzRERERO0lWFKSgdzDDEQNs6LVTUREREJi4mgNw2z7iFo3ERERCYmJozVyh1nRPq4XdXgEERERCYmJozVyh1nRQqGodRMREZGQmDhaw0UT2kfUjjIREREJSbCkJAN2ZttH1LqJiIhISEwcrZE7zIrW4RS1o0xERERCYuJojdxhVrRQKGrdREREJCQmjtbItQKYqB1OUTvKREREJCTBkpIM2JltH1HrJiIiIiExcbSGYbZ9RO0oExERkZCYOFojd5gV7eN6UUM4ERERCYmJozVyh1nRQqGoIZyIiIiEJFhSkgEXTWgfUUM4ERERCUktdwFttXLlSixbtgxVVVUYPXo0Zs6ciYSEBO8fmJ3Z9rnlFiAuTry6iYiISEjCJI4jR45g1qxZ+Pvf/46ysjK8//77sNvtjbaRJAl2ux02m63Jc1dM7jAr0Mf1LklC3dARqH70d7DoDJAkuSsiIiKiQCdMZ/bPf/4zAMBut2Po0KE4fPgwLBYLNBqNe5vy8nJs374dZWVlsNvtqK6uvvoDyx1mBelwVpps2H2mAt+eKUe1yYa02FBc2yUWvZMioFOLcQ5EREQkHmHCLFDfeS0oKMCpU6fQq1cvGI3GRs+r1WrExMRApVLBZrNBrfbA6flw0QRJAsw2JywOJyIcDqgAIcKswyXhyyOFeG/HWeSWm+CSJOg1SuzNrcDvb+iKAalRcpdIREREAUqoMFtdXY1Vq1YhNDQUY8eOhepnH8FHRkZi1KhRAACz2YxFixZd/UFdLsATobgVTpeEPecqsON0KSpNdtydW4EBABxQ+P2bVFZrxeeHCt1BFgAsdhf2nK3A5hMl6MXuLBEREXmJv+ckN5PJhDfffBN1dXX41a9+hQ4dOjS7neLHmQcUnpqBwEfDDLadKsFfPz+OvIr6QNj5TDkGAMgpN6FrrDwTKrRVYZUZxTUWd5BtYHG4cK7chFqLA7pQrUzVERERUSATpl324osv4uOPP0Z4eDh27tyJHTt2wGw2e//APgizFy0OLPjqNM6V17kDofTj1Fw7cyphc7q8evyrFWHQwKhV4ed5W6lQINKoYVeWiIiIvEaYzuw111yDtLQ06HQ6uFwuSJIEyRe3y/sgzJ4rq8PZMlOjx75P6Q0JCpwrq4PZ5vTrQJgYacCwjBicKa2D2e685HE9RmTEIEQnzF8zIiIiEowwKWPixInyHNgHYVavUUL5s7bm5oxB2JIxCJNDQ6H8+ZN+Rq9RYcbwzrDYnVifXQyrw4mECAOmD0vFyK4d/HqIBBEREYlNmDArGx+sAJbRMRRDM2Lw1bFiOFz13WYFgJhQLQamRsGo9f+5ZpOjjHjhjt54cEQ6KupsSI0xIjZM12ToAREREZEnMcy2xgedWaVCgSfGdoVWpcDhgmpY7C5EGjUY2yMOIzJjofLzzmwDhUKB9A4hSO8QIncpREREFCQYZlvjo9kMMjuGYvbN3XGquBY1ZjviI/ToEheGKKOG3U0iIiKiy2CYbY2PFk1QKhRIjjIiIdIA6cf8rORgUyIiIqIWMcy2xsfL2aoUCsD/h8gSERER+QX/ne/JX/g4zBIRERFR2zGltYZhloiIiMhvMaW1hmGWiIiIyG8xpbWGYZaIiIjIb/EGsMuoszrgcEmI8MGiCURERER0ZRhmf8Zkc2BfbhW+P1MOi8OJP9gccDkkGOUujIiIiIiaYJi9hM3hwobsIry97QzOlddBkoDfWu3ILatDx2ozEiIMcpdIRERERJfgYNBLFNdYsHL/eeSU1sLmcMHudEHhcqGwxob1R4rgdElyl0hEREREl2Bn9hK5FSacrzI3Cq2/u3021C4nIi/UoNpsR3SIVsYKiYiIiOhSDLOX0CgVUCkb3+y1PW0AFACmqBWc1ICIiIjIzzCeXaJzbAi6dAyFRtX4jyU6RItBnaMRrmdXloiIiMifsDN7iZgQLaYO7oQ6qwNHztfAJUmIDtHi1j4JuK57Ryg5QxcRERGRX2GYvYRapcTQ9BjEh+uRfaEGZrsTKdEG9EwIR5SRXVkiIiIif8Mw+zNatRJd48PQOTYELkmCRqVsMo6WiIiIiPwDw+xlaNUcTkxERETk75jYiIiIiEhYDLNEREREJCyGWSIiIiISFsMsEREREQkr4G8Ac7lccLlccpdBRBSUXC4XJElqfUMioisUsGHW6XTi4sWLWL58OUJDQ+Uuh4goKDkcDpw4cQJOp1PuUogoQCmkAP2V2Wq1YsWKFVCr1VAqxRlNcf78eWzZsgVTpkyBWh2wv2u42e12vPXWW5g5cyZCQkLkLserJEnCkSNHUFZWhjFjxgj19/JKSJKE3bt3Q6FQYNCgQVAoAnu+5rq6OqxatQqTJk2CXq+Xuxyvczgc+M9//oPbb78dSUlJl31/JUmCzWbDjTfeiISEBB9XSUTBIGDTkk6nw7Rp0wBAmB+iDWHn+PHjuPvuu6HT6eQuyevMZjOWLl2KO++8E1FRUXKX41WSJMFoNOLcuXOYPHkyVCqV3CV5lcvlgsPhgEKhwKRJkwL+fMvLy/HNN9/gzjvvRHh4uNzleJ3NZsPy5csxduxY9OnTp8XrrCRJAf/LGxHJJ2DDLAAhL54qlQoajQZKpVKYEH41FAoF1Go1FApFUJyvSqWCSqUKivNVKBTucw2Gv89KpRJqtdp9zoFOoVC4r1WtXWuD4c+DiOQT0GFWRBERERg0aJCQQfxKqNVqXHfdddBqtXKX4nUKhQJJSUnQarVB8cNdoVCgc+fO7v8OdFqtFoMHDw6K4UFAfXgfNWoUIiMj5S6FiIJcwI6ZFZXD4YDJZEJYWFhQBABJklBVVYWIiIigCPBWqxVOpxNGo1HuUnzCYrEAQFCMIXW5XKitrQ2qf7vV1dUIDQ0NmgBPRP6JYZaIiIiIhBX4rTAiIiIiClj8bMhPOJ1OZGdn4+DBg9Dr9bjpppsCdiyay+XC6dOnsX//ftTU1KBTp0649tprERYWJndpXpOfn49vvvkGlZWViI2NxeDBg9GpU6eA/zi6oqICmzdvRnR0NK6//nq5y/Gabdu24cCBAwDqx85ef/316N69u8xVeYckSSgrK8OuXbuQl5eH5ORkXHfddUExgwMR+Sd2Zv2Ew+HA4cOHcfjwYXz44YcoKyuTuySvsdls2Lt3LwoLCxEeHo7ly5fjgw8+COhJ1UtLS1FXV4fY2FgcPXoU7733HioqKuQuy6vsdju2bNmCf/3rX1izZo3c5XjVpk2bcPr0aWRmZiI9PT2gfzGrrKzE0qVLsWfPHnTs2BFOpxNWq1XusogoiLEz6yd0Oh3uv/9+DBkyBHPmzAno5R/1ej3uu+8+9/9369YNr7zyCqZMmYLY2FgZK/OeAQMGYMCAAZAkCd27d8eiRYtQWFiImJgYuUvzmjNnzuD48ePo0aNHwC8p7XK5kJycjKFDh0Kv1wf0AiCHDx9GWVkZfvnLX6Jjx44wGo1BcYMfEfkvhlmSlcViwb59+5CamhrQAQCo/8h906ZNOH78OGJjY5GYmCh3SV4hSRLKy8uxbt06DBgwAAqFAsXFxXKX5VXJycnYtWsXnnnmGRgMBtx///0YMGBAQC4Ucf78eezevRvl5eWQJAlJSUmYOXMmkpOT5S6NiIIUhxmQbGpra/H555/j4MGDmDx5MgwGg9wleZXT6UR1dTUcDgeAn6atCjR2ux0bNmzAyZMn3UG2uLgYJ0+elLs0r5k4cSJeeeUVzJ07F/Hx8fjss89QXV0td1leYbVaodPpMHPmTMydOxfFxcX4/vvv5S6LiIIYwyzJoq6uDl988QW+/fZbTJ8+HVlZWXKX5HWxsbGYMWMGpk6dioqKCpw5c0bukryiIawrFAps27YN2dnZyMnJwbfffhuww2fi4uIQFxeH5ORk9OnTB1VVVTCbcTNE8gAACyBJREFUzXKX5RURERHIzMxEp06dkJKSgri4OFRWVspdFhEFMQ4z8BOSJKGiogLnzp3DxYsXkZubi8jISERHRwfcR5V2ux0bN27Epk2bcPfddyMlJcU92XygnWuD77//Hnq9HhERETh06BAuXrwYsHd/GwwG3HXXXbjtttsAAAsXLkRBQQEmT54csLM3rFu3DhkZGbh48SJWr16NzMxMREREyF2WV6Snp2PLli3YvXs3EhMTcfr0aYwePVrusogoiDHM+gmn04nt27djzZo10Ol0WLFiBSoqKnDrrbcG3FhSp9OJ8+fPo6qqCqtXr8YXX3yBrl27Ytq0aQF7Q1RVVRW2bNkCs9mMqKgoTJ48GV27dpW7LK9QKBQwGAzuYSNdunRBREREwP09vtSxY8ewYcMGqNVq9OvXDxMmTAjY8+3WrRvGjRuH7du3w+FwYPz48Rg0aJDcZRFREOMKYH7EbDa7P5pUKBTQ6XQwGAwB182SJAkmk6nRdD4ajQYhISEBu6St1WqFxWKBy+WCWq2GXq+HRqORuyyfaDjvQF7Ct7a21j28QqfTQa/XB9y/20vZbDZYLBZIkgS9Xg+dTid3SUQUxBhmiYiIiEhYgdkGIyIiIqKgwDBLRERERMJimCUiIiIiYTHMEhEREZGwGGYpoEmShLq6Oved5kD93fVyrb514cIF/PWvf8Xvfvc7ZGdnux+XJAk1NTWoqqpyf5lMJq8uMnDu3Dm8+eabKCsr89oxiIiIvI3zzFJAq6urw/z58zFs2DDcdNNNsNvtePXVV9GlSxdMnDgRanX7/wlIknTF0y4dO3YMhYWFmDlzJtLT0xvVeeeddyIyMhJRUVEAgGuvvRZTp071yrRHLpcLCQkJmDhxIiIjIz2+fyIiIl9hmKWAZjQaMWLECGzbtg1dunTBgQMHkJeXh6SkJLz44ovQ6/W44YYb0LdvX1RUVGDt2rU4e/YsYmNjMX78eKSlpeGHH37A3r17YbVakZubizvuuANnzpzBwYMHodfrcdNNNyErK8s9b6zL5UJeXh6++OILFBUVISsrCzfddBOKi4vxxhtvoKioCN988w3S0tLcc69KkgSbzYaZM2dixIgRAOrn3jWbzVixYgWuueYa9OzZE9u3b4fZbMbo0aMxb948DBkyBNnZ2QgJCcEdd9yB1NRUmEwmfP3119i1axeio6Nxww03oHfv3ti9ezdOnToFs9mMiooKzJgxA1u3bsW4ceNgMBjw9ddfY+/evTAajRg/fjwyMzOxb98+nDlzBjU1NSgsLMTIkSMxevRoKJVKHD9+HBs3bvz/7d1dSJN/H8fx97Wt6dx0zi3NLayUZWUhLiq10CSInsRmYUERBR3YYUQeeGCnHVQHRQSlpD1CJJ0UPUhSB0bZIBMtqCgpNVHXNWdbe8hd/4Ng4B397/uG+3+L9X0djrHrd/2ug3348uH6oaoqxcXFeL1eAoEAHR0d9PX14XQ62bRpEwsWLPht3x8shBBi5sk/jPit6XQ61qxZg8Ph4MyZM9y4cQO3283z589ZuXIl8+fP5/Lly7x+/ZqJiQkyMzOpqqoiHA5z6tQp4vE4w8PDtLS0MDw8zIYNG/jw4QN3795l1apVeDwe9Hr9tDqAqqq0trYyNDSEx+Ph/v37PHz4EIfDQVlZGcuWLWPdunU/nRCVSCRQVZXR0VFGR0eJRCKYzWY0TePChQu8ePGC9vZ2dDodc+bM4dKlS7S0tFBQUMDg4CCnT5/G7/dz+/ZtOjs7qaqqwmaz0dbWxqdPn+jv76e1tZVEIsHatWvx+/08fvyYYDDIrVu3uHv3LiUlJaSnp9PU1MT4+Dh9fX1cu3aNlJQU8vPzuXDhAm/evOH9+/ecPHmSeDxOWVkZU1NTxGIx7ty5Q09PDxUVFUxMTHDt2jVUVf1/P3YhhBB/EAmz4rdns9moqqqiv7+f8vJyPn/+jNVqJZFIkJqaSjwe5927d+Tk5JCXl0c0GmXevHm8evWKwcFB4MeRrDt37mTt2rXY7XaMRiMpKSkUFhayZMkSjEYj8GPCOjQ0xPj4OAcPHsTr9bJp0yaePXtGamoqbrcbp9PJ4sWLf6oPTE5O0tzcTGNjI42NjXR1daEoCtu2bSMWi3HkyBGcTidlZWXJekRNTQ11dXXs2bOHjx8/0t3dzdOnT3E6nYRCIVJSUpicnOTNmzcALF26lF27dlFZWZm8rt/vp7Ozk5ycHDRNIzs7G7/fj8/nA2DlypXU1tZSXV2NzWbj48ePvHz5Ek3T2L9/P5s3b6auro6vX7/S1dVFVlYW4XAYh8PBwMAAIyMj/2j3VwghxJ9Nagbit6coCtnZ2SxfvpyioiLevn1LMBhkYGAAgOLiYtxuN/fu3aOzs5OCggJCoRDhcJjJyUngRyA2m80oisLy5csZHh7G5/Px6NEj1qxZw8aNGzGZTMCPo2v1ej0WiwVFUTCbzcRiMRKJxN+u02q1cvTo0WTNIDU1Fb1ez5w5c3A4HPj9flwu17QQ7HA4gB9HqBqNRkKhEF+/fmV4eBij0YimaaxevZqFCxcyODiIw+H4qSf87ds3QqEQIyMjpKenoygKtbW15OXl8eXLFzIyMjAYDGiahsFgIBqNEgqFsFgsyXsGiMfj+P1+TCZT8tqVlZXY7fbf+mhXIYQQM0vCrPgjKIqCTqdDp9NRWFjI2NgYW7duxWKx4Pf7yc7O5vr165jNZnbs2IHP56OjoyMZQHU6XTKQaZpGSUkJJSUltLe34/P5WLduXTLYZWVlAeDz+fB4PPT19eFyuZKd2r9bo8FgmPa9RCJBd3c3Y2NjHDp0iN7eXjweD0uXLgXgyZMneDwe+vv7AVi0aBEulwuTyURtbS16vZ5AIMC8efOS9/GvrFYreXl5mEwmtm3bRlpaGqOjo+Tm5tLT0zNtfQB6vZ5FixbR0dFBb28vS5YsIRgMYrPZcLvd5Obm4vV6mZqaIhKJYLVa//sHJoQQQvyHJMyKP4qiKFRXV3Px4kWampqSwWzfvn1UVFRw7tw5jh07hsvl+uU08cOHD5w/f55wOIxOp8Pr9Sb7r4qi4HQ6qaio4OrVq7S1tWG326mvr/+3YTYQCHD8+HHmzp0LgMfjYfv27dy8eZMtW7awfv16mpubefDgAS6XC4CJiQkaGxuJRCJ4vV6KioowGo20tbXR0NCAwWCgsLCQAwcO/PK6GRkZ7N27l9bW1uSeLFiwgPr6+l/uYXFxMaWlpZw9exadTseKFSs4fPgwNTU1XLlyhYaGBoxGI6WlpezevXvaBFcIIYT4X1I0KbOJP8D3799RVRWz2YzJZCIYDKKqKpqmkZaWlpymjo2NEY1GSU9PJxqN4nA4SCQShMNhMjMz0ev1RCIRxsfHicVipKamYrfbf+q/RqNRxsfHk7+VlZWFXq8nFAoRiUSw2WzTpqSJRIJPnz4Rj8eTn5nNZmw2G6qqJnu6k5OTxGIxMjMzyc/Pp7m5mcWLF2MwGHA4HKSkpKBpGoFAAFVVURQFi8WCzWYjHA7z/ft3MjMz0el0xGIxAoFAcm2BQICJiQk0TcNsNmO32wmHw0xNTWG1WtE0Db/fT1paGmazmXA4zJcvX4jH41gsluReqapKMBhEr9eTkZGB1WqVtxkIIYT4x0iYFWKWKigo4PLly5SXl8/0UoQQQogZI+MSIWapEydO4Ha7Z3oZQgghxIySyawQQgghhJi1ZDIrhBBCCCFmLQmzQgghhBBi1pIwK4QQQgghZi0Js0IIIYQQYtaSMCuEEEIIIWYtCbNCCCGEEGLWkjArhBBCCCFmrb8AN9wmn5y2PbcAAAAASUVORK5CYII=)"
      ],
      "metadata": {
        "id": "90X0hNRBt5xR"
      }
    },
    {
      "cell_type": "code",
      "source": [
        "from sklearn.metrics import mean_squared_error\n",
        "print(\"Mean squared error: %.2f\" % mean_squared_error(y_test, y_pred))"
      ],
      "metadata": {
        "id": "pHK2CohsrfiL",
        "colab": {
          "base_uri": "https://localhost:8080/"
        },
        "outputId": "d7177ff6-7c20-4dc0-c297-e743210767a1"
      },
      "execution_count": 52,
      "outputs": [
        {
          "output_type": "stream",
          "name": "stdout",
          "text": [
            "Mean squared error: 37964410.20\n"
          ]
        }
      ]
    },
    {
      "cell_type": "markdown",
      "source": [
        "$R^2$  **(coefficient of determination) regression score function**  \n",
        "Best possible score is 1.0 and it can be negative (because the model can be arbitrarily worse).  "
      ],
      "metadata": {
        "id": "UgZff922rs-1"
      }
    },
    {
      "cell_type": "code",
      "source": [
        "from sklearn.metrics import r2_score\n",
        "print(\"Coefficient of determination: %.2f\" % r2_score(y_test, y_pred))"
      ],
      "metadata": {
        "id": "cYWsMgARrstm",
        "colab": {
          "base_uri": "https://localhost:8080/"
        },
        "outputId": "1bd2b436-782d-41d8-91bd-2ed6487ee10d"
      },
      "execution_count": 53,
      "outputs": [
        {
          "output_type": "stream",
          "name": "stdout",
          "text": [
            "Coefficient of determination: 0.93\n"
          ]
        }
      ]
    },
    {
      "cell_type": "code",
      "source": [],
      "metadata": {
        "id": "9IRjvZFNHFYD"
      },
      "execution_count": null,
      "outputs": []
    }
  ]
}